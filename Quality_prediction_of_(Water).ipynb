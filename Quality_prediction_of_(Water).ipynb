{
  "cells": [
    {
      "cell_type": "markdown",
      "metadata": {
        "id": "view-in-github",
        "colab_type": "text"
      },
      "source": [
        "<a href=\"https://colab.research.google.com/github/MrSR3112/ml-final-project/blob/main/Quality_prediction_of_(Water).ipynb\" target=\"_parent\"><img src=\"https://colab.research.google.com/assets/colab-badge.svg\" alt=\"Open In Colab\"/></a>"
      ]
    },
    {
      "cell_type": "markdown",
      "id": "6920f541",
      "metadata": {
        "papermill": {
          "duration": 0.03139,
          "end_time": "2021-08-10T03:41:14.980398",
          "exception": false,
          "start_time": "2021-08-10T03:41:14.949008",
          "status": "completed"
        },
        "tags": [],
        "id": "6920f541"
      },
      "source": [
        "# **Importing required libraries**"
      ]
    },
    {
      "cell_type": "code",
      "execution_count": null,
      "id": "ed5ed3a0",
      "metadata": {
        "execution": {
          "iopub.execute_input": "2021-08-10T03:41:15.051611Z",
          "iopub.status.busy": "2021-08-10T03:41:15.050774Z",
          "iopub.status.idle": "2021-08-10T03:41:19.943655Z",
          "shell.execute_reply": "2021-08-10T03:41:19.942624Z",
          "shell.execute_reply.started": "2021-08-10T03:35:57.295344Z"
        },
        "papermill": {
          "duration": 4.932446,
          "end_time": "2021-08-10T03:41:19.943816",
          "exception": false,
          "start_time": "2021-08-10T03:41:15.011370",
          "status": "completed"
        },
        "tags": [],
        "id": "ed5ed3a0"
      },
      "outputs": [],
      "source": [
        "import pandas as pd\n",
        "import numpy as np\n",
        "import matplotlib.pyplot as plt\n",
        "\n",
        "\n",
        "import plotly\n",
        "import plotly.express as px\n",
        "import plotly.graph_objs as go\n",
        "import plotly.offline as py\n",
        "from plotly.offline import iplot\n",
        "from plotly.subplots import make_subplots\n",
        "import plotly.figure_factory as ff\n",
        "\n",
        "import warnings\n",
        "warnings.filterwarnings(\"ignore\")"
      ]
    },
    {
      "cell_type": "markdown",
      "id": "b833ae20",
      "metadata": {
        "papermill": {
          "duration": 0.030843,
          "end_time": "2021-08-10T03:41:20.007152",
          "exception": false,
          "start_time": "2021-08-10T03:41:19.976309",
          "status": "completed"
        },
        "tags": [],
        "id": "b833ae20"
      },
      "source": [
        "# **Exploratory Data Analysis (EDA)**"
      ]
    },
    {
      "cell_type": "code",
      "execution_count": null,
      "id": "15d06997",
      "metadata": {
        "execution": {
          "iopub.execute_input": "2021-08-10T03:41:20.078957Z",
          "iopub.status.busy": "2021-08-10T03:41:20.078344Z",
          "iopub.status.idle": "2021-08-10T03:41:20.133155Z",
          "shell.execute_reply": "2021-08-10T03:41:20.133580Z",
          "shell.execute_reply.started": "2021-08-10T03:36:01.586678Z"
        },
        "papermill": {
          "duration": 0.094972,
          "end_time": "2021-08-10T03:41:20.133726",
          "exception": false,
          "start_time": "2021-08-10T03:41:20.038754",
          "status": "completed"
        },
        "tags": [],
        "id": "15d06997"
      },
      "outputs": [],
      "source": [
        "# Import the CSV file\n",
        "\n",
        "df = pd.read_csv('/content/water_potability.csv')\n",
        "df.head()"
      ]
    },
    {
      "cell_type": "code",
      "execution_count": null,
      "id": "7413f164",
      "metadata": {
        "execution": {
          "iopub.execute_input": "2021-08-10T03:41:20.207911Z",
          "iopub.status.busy": "2021-08-10T03:41:20.207320Z",
          "iopub.status.idle": "2021-08-10T03:41:20.212907Z",
          "shell.execute_reply": "2021-08-10T03:41:20.212436Z",
          "shell.execute_reply.started": "2021-08-10T03:36:01.645466Z"
        },
        "papermill": {
          "duration": 0.040791,
          "end_time": "2021-08-10T03:41:20.213027",
          "exception": false,
          "start_time": "2021-08-10T03:41:20.172236",
          "status": "completed"
        },
        "tags": [],
        "id": "7413f164"
      },
      "outputs": [],
      "source": [
        "# Dimensions of the Dataset\n",
        "\n",
        "df.shape"
      ]
    },
    {
      "cell_type": "code",
      "execution_count": null,
      "id": "3ae1cd41",
      "metadata": {
        "execution": {
          "iopub.execute_input": "2021-08-10T03:41:20.297959Z",
          "iopub.status.busy": "2021-08-10T03:41:20.297198Z",
          "iopub.status.idle": "2021-08-10T03:41:20.300578Z",
          "shell.execute_reply": "2021-08-10T03:41:20.301100Z",
          "shell.execute_reply.started": "2021-08-10T03:36:03.872144Z"
        },
        "papermill": {
          "duration": 0.057427,
          "end_time": "2021-08-10T03:41:20.301246",
          "exception": false,
          "start_time": "2021-08-10T03:41:20.243819",
          "status": "completed"
        },
        "tags": [],
        "id": "3ae1cd41"
      },
      "outputs": [],
      "source": [
        "# Data Info\n",
        "\n",
        "df.info()"
      ]
    },
    {
      "cell_type": "code",
      "execution_count": null,
      "id": "f9f76d12",
      "metadata": {
        "execution": {
          "iopub.execute_input": "2021-08-10T03:41:20.376536Z",
          "iopub.status.busy": "2021-08-10T03:41:20.375741Z",
          "iopub.status.idle": "2021-08-10T03:41:20.413990Z",
          "shell.execute_reply": "2021-08-10T03:41:20.414406Z",
          "shell.execute_reply.started": "2021-08-10T03:36:06.662742Z"
        },
        "papermill": {
          "duration": 0.080326,
          "end_time": "2021-08-10T03:41:20.414566",
          "exception": false,
          "start_time": "2021-08-10T03:41:20.334240",
          "status": "completed"
        },
        "tags": [],
        "id": "f9f76d12"
      },
      "outputs": [],
      "source": [
        "# Data Description\n",
        "\n",
        "df.describe()"
      ]
    },
    {
      "cell_type": "code",
      "execution_count": null,
      "id": "fa49e521",
      "metadata": {
        "execution": {
          "iopub.execute_input": "2021-08-10T03:41:20.489647Z",
          "iopub.status.busy": "2021-08-10T03:41:20.488564Z",
          "iopub.status.idle": "2021-08-10T03:41:20.497031Z",
          "shell.execute_reply": "2021-08-10T03:41:20.497712Z",
          "shell.execute_reply.started": "2021-08-10T03:36:08.562838Z"
        },
        "papermill": {
          "duration": 0.049908,
          "end_time": "2021-08-10T03:41:20.497887",
          "exception": false,
          "start_time": "2021-08-10T03:41:20.447979",
          "status": "completed"
        },
        "tags": [],
        "id": "fa49e521"
      },
      "outputs": [],
      "source": [
        "# Skewness\n",
        "\n",
        "df.drop(['Potability'], axis=1).skew()"
      ]
    },
    {
      "cell_type": "code",
      "execution_count": null,
      "id": "e428e7c2",
      "metadata": {
        "execution": {
          "iopub.execute_input": "2021-08-10T03:41:20.569076Z",
          "iopub.status.busy": "2021-08-10T03:41:20.568378Z",
          "iopub.status.idle": "2021-08-10T03:41:21.982466Z",
          "shell.execute_reply": "2021-08-10T03:41:21.981998Z",
          "shell.execute_reply.started": "2021-08-10T03:36:10.793030Z"
        },
        "papermill": {
          "duration": 1.45107,
          "end_time": "2021-08-10T03:41:21.982590",
          "exception": false,
          "start_time": "2021-08-10T03:41:20.531520",
          "status": "completed"
        },
        "tags": [],
        "id": "e428e7c2"
      },
      "outputs": [],
      "source": [
        "# Plot Histogram for each feature\n",
        "\n",
        "df.drop(['Potability'], axis=1).hist(figsize=(18,10));"
      ]
    },
    {
      "cell_type": "code",
      "execution_count": null,
      "id": "b419674c",
      "metadata": {
        "execution": {
          "iopub.execute_input": "2021-08-10T03:41:22.055143Z",
          "iopub.status.busy": "2021-08-10T03:41:22.054509Z",
          "iopub.status.idle": "2021-08-10T03:41:22.076867Z",
          "shell.execute_reply": "2021-08-10T03:41:22.076314Z",
          "shell.execute_reply.started": "2021-08-10T03:36:14.506333Z"
        },
        "papermill": {
          "duration": 0.060249,
          "end_time": "2021-08-10T03:41:22.077001",
          "exception": false,
          "start_time": "2021-08-10T03:41:22.016752",
          "status": "completed"
        },
        "tags": [],
        "id": "b419674c"
      },
      "outputs": [],
      "source": [
        "# Correlation between each feature\n",
        "\n",
        "df.corr()"
      ]
    },
    {
      "cell_type": "code",
      "execution_count": null,
      "id": "eacca471",
      "metadata": {
        "collapsed": true,
        "execution": {
          "iopub.execute_input": "2021-08-10T03:41:22.151820Z",
          "iopub.status.busy": "2021-08-10T03:41:22.151086Z",
          "iopub.status.idle": "2021-08-10T03:41:22.200024Z",
          "shell.execute_reply": "2021-08-10T03:41:22.199600Z",
          "shell.execute_reply.started": "2021-08-10T03:36:16.731311Z"
        },
        "jupyter": {
          "outputs_hidden": true
        },
        "papermill": {
          "duration": 0.087859,
          "end_time": "2021-08-10T03:41:22.200154",
          "exception": false,
          "start_time": "2021-08-10T03:41:22.112295",
          "status": "completed"
        },
        "tags": [],
        "id": "eacca471"
      },
      "outputs": [],
      "source": [
        "# Heat Map of correlation between each feature\n",
        "\n",
        "fig = go.Figure(go.Heatmap(x=df.corr().columns.tolist(), y=df.corr().columns.tolist(), z=df.corr(), colorscale='bluered'))\n",
        "fig.show()"
      ]
    },
    {
      "cell_type": "code",
      "execution_count": null,
      "id": "df126dad",
      "metadata": {
        "collapsed": true,
        "execution": {
          "iopub.execute_input": "2021-08-10T03:41:22.276008Z",
          "iopub.status.busy": "2021-08-10T03:41:22.275198Z",
          "iopub.status.idle": "2021-08-10T03:41:22.294715Z",
          "shell.execute_reply": "2021-08-10T03:41:22.293985Z",
          "shell.execute_reply.started": "2021-08-10T03:36:20.978212Z"
        },
        "jupyter": {
          "outputs_hidden": true
        },
        "papermill": {
          "duration": 0.059809,
          "end_time": "2021-08-10T03:41:22.294863",
          "exception": false,
          "start_time": "2021-08-10T03:41:22.235054",
          "status": "completed"
        },
        "tags": [],
        "id": "df126dad"
      },
      "outputs": [],
      "source": [
        "# Target Variable\n",
        "\n",
        "df['Potability'].value_counts(normalize=True)\n"
      ]
    },
    {
      "cell_type": "code",
      "execution_count": null,
      "id": "0232030f",
      "metadata": {
        "collapsed": true,
        "execution": {
          "iopub.execute_input": "2021-08-10T03:41:22.373366Z",
          "iopub.status.busy": "2021-08-10T03:41:22.372705Z",
          "iopub.status.idle": "2021-08-10T03:41:23.182273Z",
          "shell.execute_reply": "2021-08-10T03:41:23.181387Z",
          "shell.execute_reply.started": "2021-08-10T03:36:27.198394Z"
        },
        "jupyter": {
          "outputs_hidden": true
        },
        "papermill": {
          "duration": 0.850129,
          "end_time": "2021-08-10T03:41:23.182436",
          "exception": false,
          "start_time": "2021-08-10T03:41:22.332307",
          "status": "completed"
        },
        "tags": [],
        "id": "0232030f"
      },
      "outputs": [],
      "source": [
        "fig = px.bar(df, x=['Not Potable','Potable'], y=df['Potability'].value_counts(normalize=True), title=\"Target Variable Value Count\")\n",
        "fig.show()"
      ]
    },
    {
      "cell_type": "code",
      "execution_count": null,
      "id": "d7d7a033",
      "metadata": {
        "collapsed": true,
        "execution": {
          "iopub.execute_input": "2021-08-10T03:41:23.266131Z",
          "iopub.status.busy": "2021-08-10T03:41:23.263137Z",
          "iopub.status.idle": "2021-08-10T03:41:23.269492Z",
          "shell.execute_reply": "2021-08-10T03:41:23.269969Z",
          "shell.execute_reply.started": "2021-08-10T03:36:32.009650Z"
        },
        "jupyter": {
          "outputs_hidden": true
        },
        "papermill": {
          "duration": 0.05148,
          "end_time": "2021-08-10T03:41:23.270127",
          "exception": false,
          "start_time": "2021-08-10T03:41:23.218647",
          "status": "completed"
        },
        "tags": [],
        "id": "d7d7a033"
      },
      "outputs": [],
      "source": [
        "# Missing Values\n",
        "\n",
        "df.isnull().sum()"
      ]
    },
    {
      "cell_type": "code",
      "execution_count": null,
      "id": "8ed709d1",
      "metadata": {
        "collapsed": true,
        "execution": {
          "iopub.execute_input": "2021-08-10T03:41:23.348349Z",
          "iopub.status.busy": "2021-08-10T03:41:23.347390Z",
          "iopub.status.idle": "2021-08-10T03:41:23.555275Z",
          "shell.execute_reply": "2021-08-10T03:41:23.555751Z",
          "shell.execute_reply.started": "2021-08-10T03:36:35.817307Z"
        },
        "jupyter": {
          "outputs_hidden": true
        },
        "papermill": {
          "duration": 0.249767,
          "end_time": "2021-08-10T03:41:23.555911",
          "exception": false,
          "start_time": "2021-08-10T03:41:23.306144",
          "status": "completed"
        },
        "tags": [],
        "id": "8ed709d1"
      },
      "outputs": [],
      "source": [
        "df.isnull().mean().plot.bar(figsize=(12,6))\n",
        "plt.ylabel('Percentage of missing values')\n",
        "plt.xlabel('Features')\n",
        "plt.title('Missing Data in Percentages');"
      ]
    },
    {
      "cell_type": "code",
      "execution_count": null,
      "id": "105942f2",
      "metadata": {
        "execution": {
          "iopub.execute_input": "2021-08-10T03:41:23.640133Z",
          "iopub.status.busy": "2021-08-10T03:41:23.639499Z",
          "iopub.status.idle": "2021-08-10T03:41:23.986464Z",
          "shell.execute_reply": "2021-08-10T03:41:23.985952Z",
          "shell.execute_reply.started": "2021-08-10T03:36:40.067038Z"
        },
        "papermill": {
          "duration": 0.388256,
          "end_time": "2021-08-10T03:41:23.986606",
          "exception": false,
          "start_time": "2021-08-10T03:41:23.598350",
          "status": "completed"
        },
        "tags": [],
        "id": "105942f2"
      },
      "outputs": [],
      "source": [
        "# Use KNN Imputer to impute NaN Values\n",
        "\n",
        "from sklearn.impute import KNNImputer\n",
        "\n",
        "imputer = KNNImputer()\n",
        "df[['ph','Sulfate','Trihalomethanes']] = imputer.fit_transform(df[['ph','Sulfate','Trihalomethanes']])"
      ]
    },
    {
      "cell_type": "code",
      "execution_count": null,
      "id": "50bdb612",
      "metadata": {
        "collapsed": true,
        "execution": {
          "iopub.execute_input": "2021-08-10T03:41:24.075034Z",
          "iopub.status.busy": "2021-08-10T03:41:24.074209Z",
          "iopub.status.idle": "2021-08-10T03:41:24.080634Z",
          "shell.execute_reply": "2021-08-10T03:41:24.080207Z",
          "shell.execute_reply.started": "2021-08-10T03:36:42.400260Z"
        },
        "jupyter": {
          "outputs_hidden": true
        },
        "papermill": {
          "duration": 0.048338,
          "end_time": "2021-08-10T03:41:24.080751",
          "exception": false,
          "start_time": "2021-08-10T03:41:24.032413",
          "status": "completed"
        },
        "tags": [],
        "id": "50bdb612"
      },
      "outputs": [],
      "source": [
        "# Checking for Missing Values after Imputing\n",
        "\n",
        "df.isnull().sum()"
      ]
    },
    {
      "cell_type": "code",
      "execution_count": null,
      "id": "f51f94fe",
      "metadata": {
        "execution": {
          "iopub.execute_input": "2021-08-10T03:41:24.175501Z",
          "iopub.status.busy": "2021-08-10T03:41:24.174683Z",
          "iopub.status.idle": "2021-08-10T03:41:24.177860Z",
          "shell.execute_reply": "2021-08-10T03:41:24.178308Z",
          "shell.execute_reply.started": "2021-08-10T03:36:45.487064Z"
        },
        "papermill": {
          "duration": 0.056546,
          "end_time": "2021-08-10T03:41:24.178460",
          "exception": false,
          "start_time": "2021-08-10T03:41:24.121914",
          "status": "completed"
        },
        "tags": [],
        "id": "f51f94fe"
      },
      "outputs": [],
      "source": [
        "df.head()"
      ]
    },
    {
      "cell_type": "markdown",
      "id": "0737dfc9",
      "metadata": {
        "papermill": {
          "duration": 0.040427,
          "end_time": "2021-08-10T03:41:24.259809",
          "exception": false,
          "start_time": "2021-08-10T03:41:24.219382",
          "status": "completed"
        },
        "tags": [],
        "id": "0737dfc9"
      },
      "source": [
        "# **Modelling**"
      ]
    },
    {
      "cell_type": "code",
      "execution_count": null,
      "id": "f764cb6b",
      "metadata": {
        "execution": {
          "iopub.execute_input": "2021-08-10T03:41:24.356169Z",
          "iopub.status.busy": "2021-08-10T03:41:24.355355Z",
          "iopub.status.idle": "2021-08-10T03:41:24.359297Z",
          "shell.execute_reply": "2021-08-10T03:41:24.358885Z",
          "shell.execute_reply.started": "2021-08-10T00:48:46.921989Z"
        },
        "papermill": {
          "duration": 0.053572,
          "end_time": "2021-08-10T03:41:24.359411",
          "exception": false,
          "start_time": "2021-08-10T03:41:24.305839",
          "status": "completed"
        },
        "tags": [],
        "id": "f764cb6b"
      },
      "outputs": [],
      "source": [
        "# Split the Dataset into Training and Test Datasets\n",
        "\n",
        "from sklearn.model_selection import train_test_split\n",
        "\n",
        "X = df.drop(['Potability'],axis=1)\n",
        "y = df['Potability']\n",
        "\n",
        "X_train, X_test, y_train, y_test = train_test_split(X, y, test_size=0.25, random_state =42)"
      ]
    },
    {
      "cell_type": "markdown",
      "id": "a0aac510",
      "metadata": {
        "papermill": {
          "duration": 0.040106,
          "end_time": "2021-08-10T03:41:24.437152",
          "exception": false,
          "start_time": "2021-08-10T03:41:24.397046",
          "status": "completed"
        },
        "tags": [],
        "id": "a0aac510"
      },
      "source": [
        "#### Machine Learning Algorithms Params"
      ]
    },
    {
      "cell_type": "markdown",
      "id": "903438b5",
      "metadata": {
        "papermill": {
          "duration": 0.038761,
          "end_time": "2021-08-10T03:41:24.515815",
          "exception": false,
          "start_time": "2021-08-10T03:41:24.477054",
          "status": "completed"
        },
        "tags": [],
        "id": "903438b5"
      },
      "source": [
        "##### Random Forest Params"
      ]
    },
    {
      "cell_type": "code",
      "execution_count": null,
      "id": "da808eb2",
      "metadata": {
        "execution": {
          "iopub.execute_input": "2021-08-10T03:41:24.601548Z",
          "iopub.status.busy": "2021-08-10T03:41:24.600716Z",
          "iopub.status.idle": "2021-08-10T03:41:24.603496Z",
          "shell.execute_reply": "2021-08-10T03:41:24.603065Z",
          "shell.execute_reply.started": "2021-08-10T00:48:46.935272Z"
        },
        "papermill": {
          "duration": 0.045202,
          "end_time": "2021-08-10T03:41:24.603611",
          "exception": false,
          "start_time": "2021-08-10T03:41:24.558409",
          "status": "completed"
        },
        "tags": [],
        "id": "da808eb2"
      },
      "outputs": [],
      "source": [
        "from sklearn.ensemble import RandomForestClassifier\n",
        "\n",
        "rf_params = {'n_estimators':[100, 200, 300],\n",
        "             'criterion':['gini','entropy'],\n",
        "             'min_samples_split':[3,5,10],\n",
        "             'min_samples_leaf':[1,3,5],\n",
        "             'max_features':['auto','sqrt','log2'],\n",
        "             'bootstrap':[False]\n",
        "            }"
      ]
    },
    {
      "cell_type": "markdown",
      "id": "60b88210",
      "metadata": {
        "papermill": {
          "duration": 0.040264,
          "end_time": "2021-08-10T03:41:24.683662",
          "exception": false,
          "start_time": "2021-08-10T03:41:24.643398",
          "status": "completed"
        },
        "tags": [],
        "id": "60b88210"
      },
      "source": [
        "##### Gradient Boosting Classifier Params"
      ]
    },
    {
      "cell_type": "code",
      "execution_count": null,
      "id": "99281835",
      "metadata": {
        "execution": {
          "iopub.execute_input": "2021-08-10T03:41:24.769855Z",
          "iopub.status.busy": "2021-08-10T03:41:24.768887Z",
          "iopub.status.idle": "2021-08-10T03:41:24.771391Z",
          "shell.execute_reply": "2021-08-10T03:41:24.772015Z",
          "shell.execute_reply.started": "2021-08-10T00:48:46.944202Z"
        },
        "papermill": {
          "duration": 0.050627,
          "end_time": "2021-08-10T03:41:24.772175",
          "exception": false,
          "start_time": "2021-08-10T03:41:24.721548",
          "status": "completed"
        },
        "tags": [],
        "id": "99281835"
      },
      "outputs": [],
      "source": [
        "from sklearn.ensemble import GradientBoostingClassifier\n",
        "\n",
        "gb_params = {'loss':['deviance', 'exponential'],\n",
        "             'learning_rate':[0.001,0.01,0.1,0.5],\n",
        "             'n_estimators':[100,300,500],\n",
        "             'min_samples_split':[3,5,10],\n",
        "             'max_depth':[3,5,10],\n",
        "             'max_features':['auto','sqrt','log2']\n",
        "            }"
      ]
    },
    {
      "cell_type": "markdown",
      "id": "65079961",
      "metadata": {
        "papermill": {
          "duration": 0.038158,
          "end_time": "2021-08-10T03:41:24.849144",
          "exception": false,
          "start_time": "2021-08-10T03:41:24.810986",
          "status": "completed"
        },
        "tags": [],
        "id": "65079961"
      },
      "source": [
        "##### Multi-layer Perceptron (MLP) Classifier Params"
      ]
    },
    {
      "cell_type": "code",
      "execution_count": null,
      "id": "823d4390",
      "metadata": {
        "execution": {
          "iopub.execute_input": "2021-08-10T03:41:24.941034Z",
          "iopub.status.busy": "2021-08-10T03:41:24.940326Z",
          "iopub.status.idle": "2021-08-10T03:41:24.949881Z",
          "shell.execute_reply": "2021-08-10T03:41:24.949337Z",
          "shell.execute_reply.started": "2021-08-10T00:48:46.954392Z"
        },
        "papermill": {
          "duration": 0.055057,
          "end_time": "2021-08-10T03:41:24.950004",
          "exception": false,
          "start_time": "2021-08-10T03:41:24.894947",
          "status": "completed"
        },
        "tags": [],
        "id": "823d4390"
      },
      "outputs": [],
      "source": [
        "from sklearn.neural_network import MLPClassifier\n",
        "\n",
        "mlp_params = {'hidden_layer_sizes':[(100,50,10),(100,100,100),(100,100),(5,5),(5,3,2)],\n",
        "              'activation':['identity', 'logistic', 'tanh', 'relu'],\n",
        "              'solver':['lbfgs','sgd','adam'],\n",
        "              'alpha':[0.1,0.01,0.005,0.0001,0.00001],\n",
        "              'learning_rate':['constant','invscaling','adaptive']\n",
        "             }"
      ]
    },
    {
      "cell_type": "markdown",
      "id": "28b9fa53",
      "metadata": {
        "papermill": {
          "duration": 0.041807,
          "end_time": "2021-08-10T03:41:25.030410",
          "exception": false,
          "start_time": "2021-08-10T03:41:24.988603",
          "status": "completed"
        },
        "tags": [],
        "id": "28b9fa53"
      },
      "source": [
        "##### KNeighbors Classifier Params"
      ]
    },
    {
      "cell_type": "code",
      "execution_count": null,
      "id": "3bf5e304",
      "metadata": {
        "execution": {
          "iopub.execute_input": "2021-08-10T03:41:25.112269Z",
          "iopub.status.busy": "2021-08-10T03:41:25.111389Z",
          "iopub.status.idle": "2021-08-10T03:41:25.113930Z",
          "shell.execute_reply": "2021-08-10T03:41:25.113411Z",
          "shell.execute_reply.started": "2021-08-10T00:48:46.970884Z"
        },
        "papermill": {
          "duration": 0.045244,
          "end_time": "2021-08-10T03:41:25.114037",
          "exception": false,
          "start_time": "2021-08-10T03:41:25.068793",
          "status": "completed"
        },
        "tags": [],
        "id": "3bf5e304"
      },
      "outputs": [],
      "source": [
        "from sklearn.neighbors import KNeighborsClassifier\n",
        "\n",
        "kn_params = {'n_neighbors':[3,5,10],\n",
        "             'weights':['uniform','distance'],\n",
        "             'algorithm':['auto','ball_tree','kd_tree','brute'],\n",
        "             'p':[1,2,5]\n",
        "            }"
      ]
    },
    {
      "cell_type": "markdown",
      "id": "75ae5ad2",
      "metadata": {
        "papermill": {
          "duration": 0.050753,
          "end_time": "2021-08-10T03:41:25.201645",
          "exception": false,
          "start_time": "2021-08-10T03:41:25.150892",
          "status": "completed"
        },
        "tags": [],
        "id": "75ae5ad2"
      },
      "source": [
        "##### XGBoost Params"
      ]
    },
    {
      "cell_type": "code",
      "execution_count": null,
      "id": "22bbcc97",
      "metadata": {
        "execution": {
          "iopub.execute_input": "2021-08-10T03:41:25.283248Z",
          "iopub.status.busy": "2021-08-10T03:41:25.282627Z",
          "iopub.status.idle": "2021-08-10T03:41:25.350332Z",
          "shell.execute_reply": "2021-08-10T03:41:25.350796Z",
          "shell.execute_reply.started": "2021-08-10T00:48:46.977978Z"
        },
        "papermill": {
          "duration": 0.111102,
          "end_time": "2021-08-10T03:41:25.350958",
          "exception": false,
          "start_time": "2021-08-10T03:41:25.239856",
          "status": "completed"
        },
        "tags": [],
        "id": "22bbcc97"
      },
      "outputs": [],
      "source": [
        "from xgboost import XGBClassifier\n",
        "\n",
        "xg_params = {'learning_rate':[0.0001,0.001,0.01,0.1,0.3],\n",
        "             'min_split_loss':[2,5,10],\n",
        "             'max_depth':[3,5,10],\n",
        "             'n_estimators':[100,300,500],\n",
        "             'tree_method':['auto','exact','approx','hist','gpu_hist']\n",
        "            }"
      ]
    },
    {
      "cell_type": "markdown",
      "id": "b483b03c",
      "metadata": {
        "papermill": {
          "duration": 0.037095,
          "end_time": "2021-08-10T03:41:25.425283",
          "exception": false,
          "start_time": "2021-08-10T03:41:25.388188",
          "status": "completed"
        },
        "tags": [],
        "id": "b483b03c"
      },
      "source": [
        "##### C-Support Vector Classifier (SVC) Params"
      ]
    },
    {
      "cell_type": "code",
      "execution_count": null,
      "id": "3a6b9115",
      "metadata": {
        "execution": {
          "iopub.execute_input": "2021-08-10T03:41:25.505239Z",
          "iopub.status.busy": "2021-08-10T03:41:25.504394Z",
          "iopub.status.idle": "2021-08-10T03:41:25.506632Z",
          "shell.execute_reply": "2021-08-10T03:41:25.507078Z",
          "shell.execute_reply.started": "2021-08-10T00:48:47.053572Z"
        },
        "papermill": {
          "duration": 0.044983,
          "end_time": "2021-08-10T03:41:25.507212",
          "exception": false,
          "start_time": "2021-08-10T03:41:25.462229",
          "status": "completed"
        },
        "tags": [],
        "id": "3a6b9115"
      },
      "outputs": [],
      "source": [
        "from sklearn.svm import SVC\n",
        "\n",
        "svc_params = {'C':[0.001,0.01,0.1,0.3],\n",
        "              'kernel':['linear','poly','rbf','sigmoid'],\n",
        "              'degree':[3,5,10],\n",
        "              'gamma':['auto','scale']\n",
        "             }"
      ]
    },
    {
      "cell_type": "markdown",
      "id": "d7ad2b8d",
      "metadata": {
        "papermill": {
          "duration": 0.036729,
          "end_time": "2021-08-10T03:41:25.580500",
          "exception": false,
          "start_time": "2021-08-10T03:41:25.543771",
          "status": "completed"
        },
        "tags": [],
        "id": "d7ad2b8d"
      },
      "source": [
        "##### AdaBoost Classifier Params"
      ]
    },
    {
      "cell_type": "code",
      "execution_count": null,
      "id": "d190d34f",
      "metadata": {
        "execution": {
          "iopub.execute_input": "2021-08-10T03:41:25.659904Z",
          "iopub.status.busy": "2021-08-10T03:41:25.659087Z",
          "iopub.status.idle": "2021-08-10T03:41:25.661374Z",
          "shell.execute_reply": "2021-08-10T03:41:25.661855Z",
          "shell.execute_reply.started": "2021-08-10T00:48:47.060746Z"
        },
        "papermill": {
          "duration": 0.044063,
          "end_time": "2021-08-10T03:41:25.661997",
          "exception": false,
          "start_time": "2021-08-10T03:41:25.617934",
          "status": "completed"
        },
        "tags": [],
        "id": "d190d34f"
      },
      "outputs": [],
      "source": [
        "from sklearn.ensemble import AdaBoostClassifier\n",
        "\n",
        "ada_params = {'n_estimators':[50,100,200,300],\n",
        "              'learning_rate':[0.0001,0.001,0.01,0.1,0.3]\n",
        "             }"
      ]
    },
    {
      "cell_type": "markdown",
      "id": "df8ff7bc",
      "metadata": {
        "papermill": {
          "duration": 0.036833,
          "end_time": "2021-08-10T03:41:25.735762",
          "exception": false,
          "start_time": "2021-08-10T03:41:25.698929",
          "status": "completed"
        },
        "tags": [],
        "id": "df8ff7bc"
      },
      "source": [
        "##### Logistic Regression Params"
      ]
    },
    {
      "cell_type": "code",
      "execution_count": null,
      "id": "fef62273",
      "metadata": {
        "execution": {
          "iopub.execute_input": "2021-08-10T03:41:25.815709Z",
          "iopub.status.busy": "2021-08-10T03:41:25.814789Z",
          "iopub.status.idle": "2021-08-10T03:41:25.817328Z",
          "shell.execute_reply": "2021-08-10T03:41:25.816927Z",
          "shell.execute_reply.started": "2021-08-10T00:48:47.073409Z"
        },
        "papermill": {
          "duration": 0.044745,
          "end_time": "2021-08-10T03:41:25.817458",
          "exception": false,
          "start_time": "2021-08-10T03:41:25.772713",
          "status": "completed"
        },
        "tags": [],
        "id": "fef62273"
      },
      "outputs": [],
      "source": [
        "from sklearn.linear_model import LogisticRegression\n",
        "\n",
        "lg_params = {'penalty':['l1','l2','elasticnet'],\n",
        "             'dual':[True, False],\n",
        "             'C':[0.001,0.01,0.1,0.3],\n",
        "             'solver':['newton-cg','lbfgs','sag','saga'],\n",
        "             'max_iter':[100,200,300],\n",
        "             'l1_ratio':[0.001,0.01,0.1,0.3,0.8]\n",
        "             }"
      ]
    },
    {
      "cell_type": "markdown",
      "id": "b43419d2",
      "metadata": {
        "papermill": {
          "duration": 0.036538,
          "end_time": "2021-08-10T03:41:25.891258",
          "exception": false,
          "start_time": "2021-08-10T03:41:25.854720",
          "status": "completed"
        },
        "tags": [],
        "id": "b43419d2"
      },
      "source": [
        "##### Decision Tree Classifier Params"
      ]
    },
    {
      "cell_type": "code",
      "execution_count": null,
      "id": "141b4e5f",
      "metadata": {
        "execution": {
          "iopub.execute_input": "2021-08-10T03:41:25.971255Z",
          "iopub.status.busy": "2021-08-10T03:41:25.970391Z",
          "iopub.status.idle": "2021-08-10T03:41:25.973056Z",
          "shell.execute_reply": "2021-08-10T03:41:25.972630Z",
          "shell.execute_reply.started": "2021-08-10T00:48:47.082098Z"
        },
        "papermill": {
          "duration": 0.04457,
          "end_time": "2021-08-10T03:41:25.973180",
          "exception": false,
          "start_time": "2021-08-10T03:41:25.928610",
          "status": "completed"
        },
        "tags": [],
        "id": "141b4e5f"
      },
      "outputs": [],
      "source": [
        "from sklearn.tree import DecisionTreeClassifier\n",
        "\n",
        "dt_params = {'criterion':['gini','entropy'],\n",
        "             'splitter':['best','random'],\n",
        "             'max_depth':[3,5,10],\n",
        "             'min_samples_split':[2,5,10],\n",
        "             'min_samples_leaf':[1,3,5,10],\n",
        "             'max_features':['auto','sqrt','log2']\n",
        "            }"
      ]
    },
    {
      "cell_type": "code",
      "execution_count": null,
      "id": "c5b74f77",
      "metadata": {
        "execution": {
          "iopub.execute_input": "2021-08-10T03:41:26.053699Z",
          "iopub.status.busy": "2021-08-10T03:41:26.052884Z",
          "iopub.status.idle": "2021-08-10T03:41:26.055671Z",
          "shell.execute_reply": "2021-08-10T03:41:26.055230Z",
          "shell.execute_reply.started": "2021-08-10T00:48:47.091391Z"
        },
        "papermill": {
          "duration": 0.045675,
          "end_time": "2021-08-10T03:41:26.055789",
          "exception": false,
          "start_time": "2021-08-10T03:41:26.010114",
          "status": "completed"
        },
        "tags": [],
        "id": "c5b74f77"
      },
      "outputs": [],
      "source": [
        "# Grid Search CV to find Optimized model\n",
        "\n",
        "models = [RandomForestClassifier(),\n",
        "         GradientBoostingClassifier(),\n",
        "         MLPClassifier(),\n",
        "         KNeighborsClassifier(),\n",
        "         XGBClassifier(),\n",
        "         SVC(),\n",
        "         AdaBoostClassifier(),\n",
        "         LogisticRegression(),\n",
        "         DecisionTreeClassifier()\n",
        "        ]\n",
        "\n",
        "model_params = [rf_params,\n",
        "                gb_params,\n",
        "                mlp_params,\n",
        "                kn_params,\n",
        "                xg_params,\n",
        "                svc_params,\n",
        "                ada_params,\n",
        "                lg_params,\n",
        "                dt_params\n",
        "               ]"
      ]
    },
    {
      "cell_type": "markdown",
      "id": "75b5c249",
      "metadata": {
        "papermill": {
          "duration": 0.036777,
          "end_time": "2021-08-10T03:41:26.129842",
          "exception": false,
          "start_time": "2021-08-10T03:41:26.093065",
          "status": "completed"
        },
        "tags": [],
        "id": "75b5c249"
      },
      "source": [
        "##### Standard Scaling\n"
      ]
    },
    {
      "cell_type": "code",
      "execution_count": null,
      "id": "64dcbb8e",
      "metadata": {
        "execution": {
          "iopub.execute_input": "2021-08-10T03:41:26.210717Z",
          "iopub.status.busy": "2021-08-10T03:41:26.209855Z",
          "iopub.status.idle": "2021-08-10T03:41:26.216875Z",
          "shell.execute_reply": "2021-08-10T03:41:26.216450Z",
          "shell.execute_reply.started": "2021-08-10T00:48:47.102456Z"
        },
        "papermill": {
          "duration": 0.049864,
          "end_time": "2021-08-10T03:41:26.216996",
          "exception": false,
          "start_time": "2021-08-10T03:41:26.167132",
          "status": "completed"
        },
        "tags": [],
        "id": "64dcbb8e"
      },
      "outputs": [],
      "source": [
        "from sklearn.preprocessing import StandardScaler\n",
        "\n",
        "scaler = StandardScaler()\n",
        "X_train_scaled = scaler.fit_transform(X_train)\n",
        "X_test_scaled = scaler.transform(X_test)"
      ]
    },
    {
      "cell_type": "markdown",
      "id": "8044cc72",
      "metadata": {
        "papermill": {
          "duration": 0.036623,
          "end_time": "2021-08-10T03:41:26.290931",
          "exception": false,
          "start_time": "2021-08-10T03:41:26.254308",
          "status": "completed"
        },
        "tags": [],
        "id": "8044cc72"
      },
      "source": [
        "##### Grid Search CV"
      ]
    },
    {
      "cell_type": "code",
      "execution_count": null,
      "id": "7073467f",
      "metadata": {
        "execution": {
          "iopub.execute_input": "2021-08-10T03:41:26.373805Z",
          "iopub.status.busy": "2021-08-10T03:41:26.373187Z",
          "iopub.status.idle": "2021-08-10T05:42:38.406182Z",
          "shell.execute_reply": "2021-08-10T05:42:38.406611Z",
          "shell.execute_reply.started": "2021-08-10T00:48:47.119670Z"
        },
        "papermill": {
          "duration": 7272.079087,
          "end_time": "2021-08-10T05:42:38.406773",
          "exception": false,
          "start_time": "2021-08-10T03:41:26.327686",
          "status": "completed"
        },
        "tags": [],
        "colab": {
          "base_uri": "https://localhost:8080/"
        },
        "id": "7073467f",
        "outputId": "0d0f6566-9e7c-47f7-80b0-8c65f01555ab"
      },
      "outputs": [
        {
          "metadata": {
            "tags": null
          },
          "name": "stdout",
          "output_type": "stream",
          "text": [
            "Fitting 2 folds for each of 162 candidates, totalling 324 fits\n"
          ]
        }
      ],
      "source": [
        "from sklearn.model_selection import StratifiedKFold, GridSearchCV\n",
        "\n",
        "#cross validation results\n",
        "cv_results = []\n",
        "\n",
        "#to use in ensemble modeling\n",
        "best_estimators = []\n",
        "\n",
        "for i in range(len(models)):\n",
        "    clf = GridSearchCV(models[i],\n",
        "                       param_grid = model_params[i],\n",
        "                       cv = StratifiedKFold(n_splits=2),\n",
        "                       scoring = 'roc_auc',\n",
        "                       n_jobs = -1,\n",
        "                       verbose=1)\n",
        "\n",
        "    clf.fit(X_train_scaled,y_train)\n",
        "    cv_results.append(clf.best_score_)\n",
        "    best_estimators.append(clf.best_estimator_)\n",
        "    print('Method: {}  Score: {}'.format(models[i],cv_results[i]))\n",
        "\n",
        "\n",
        "\n",
        "results = pd.DataFrame({'Cross Validation Means':cv_results,\n",
        "                       'ML Models':[\n",
        "                        'Random Forest',\n",
        "                        'Gradient Boosting',\n",
        "                        'MLP Classifier',\n",
        "                        'KNeighbors Classifier',\n",
        "                        'XGBoost',\n",
        "                        'SVC',\n",
        "                        'AdaBoost',\n",
        "                        'Logistic Regression',\n",
        "                        'Decision Tree'\n",
        "                       ]})"
      ]
    },
    {
      "cell_type": "code",
      "execution_count": null,
      "id": "d2ba4b81",
      "metadata": {
        "execution": {
          "iopub.execute_input": "2021-08-10T05:42:38.518802Z",
          "iopub.status.busy": "2021-08-10T05:42:38.517913Z",
          "iopub.status.idle": "2021-08-10T05:42:38.521105Z",
          "shell.execute_reply": "2021-08-10T05:42:38.521526Z",
          "shell.execute_reply.started": "2021-08-10T03:05:37.180409Z"
        },
        "papermill": {
          "duration": 0.064449,
          "end_time": "2021-08-10T05:42:38.521678",
          "exception": false,
          "start_time": "2021-08-10T05:42:38.457229",
          "status": "completed"
        },
        "tags": [],
        "id": "d2ba4b81"
      },
      "outputs": [],
      "source": [
        "results"
      ]
    },
    {
      "cell_type": "markdown",
      "id": "ac0762a0",
      "metadata": {
        "papermill": {
          "duration": 0.051378,
          "end_time": "2021-08-10T05:42:38.625493",
          "exception": false,
          "start_time": "2021-08-10T05:42:38.574115",
          "status": "completed"
        },
        "tags": [],
        "id": "ac0762a0"
      },
      "source": [
        "##### Ensemble Model"
      ]
    },
    {
      "cell_type": "code",
      "execution_count": null,
      "id": "42cc593f",
      "metadata": {
        "execution": {
          "iopub.execute_input": "2021-08-10T05:42:38.733774Z",
          "iopub.status.busy": "2021-08-10T05:42:38.732867Z",
          "iopub.status.idle": "2021-08-10T05:42:38.735507Z",
          "shell.execute_reply": "2021-08-10T05:42:38.735044Z",
          "shell.execute_reply.started": "2021-08-10T03:03:03.707548Z"
        },
        "papermill": {
          "duration": 0.059304,
          "end_time": "2021-08-10T05:42:38.735623",
          "exception": false,
          "start_time": "2021-08-10T05:42:38.676319",
          "status": "completed"
        },
        "tags": [],
        "id": "42cc593f"
      },
      "outputs": [],
      "source": [
        "from sklearn.ensemble import VotingClassifier\n",
        "\n",
        "voting = VotingClassifier(estimators=[('rf',best_estimators[0]),\n",
        "                                        ('gb',best_estimators[1]),\n",
        "                                        ('mlp',best_estimators[2]),\n",
        "                                        ('kn',best_estimators[3]),\n",
        "                                        ('xgb',best_estimators[4]),\n",
        "                                        ('svc',best_estimators[5]),\n",
        "                                        ('adb',best_estimators[6]),\n",
        "                                        ('lg',best_estimators[7]),\n",
        "                                        ('dt',best_estimators[8]),\n",
        "                                       ],\n",
        "                            voting='hard',\n",
        "                            n_jobs= -1)\n"
      ]
    },
    {
      "cell_type": "code",
      "execution_count": null,
      "id": "a14337bc",
      "metadata": {
        "execution": {
          "iopub.execute_input": "2021-08-10T05:42:38.841926Z",
          "iopub.status.busy": "2021-08-10T05:42:38.841050Z",
          "iopub.status.idle": "2021-08-10T05:42:50.172898Z",
          "shell.execute_reply": "2021-08-10T05:42:50.174193Z",
          "shell.execute_reply.started": "2021-08-10T03:03:27.706656Z"
        },
        "papermill": {
          "duration": 11.388231,
          "end_time": "2021-08-10T05:42:50.174472",
          "exception": false,
          "start_time": "2021-08-10T05:42:38.786241",
          "status": "completed"
        },
        "tags": [],
        "id": "a14337bc"
      },
      "outputs": [],
      "source": [
        "from sklearn.metrics import accuracy_score\n",
        "\n",
        "voting = voting.fit(X_train_scaled,y_train)\n",
        "my_score = accuracy_score(voting.predict(X_test_scaled),y_test)\n",
        "print(my_score)"
      ]
    }
  ],
  "metadata": {
    "kernelspec": {
      "display_name": "Python 3",
      "language": "python",
      "name": "python3"
    },
    "language_info": {
      "codemirror_mode": {
        "name": "ipython",
        "version": 3
      },
      "file_extension": ".py",
      "mimetype": "text/x-python",
      "name": "python",
      "nbconvert_exporter": "python",
      "pygments_lexer": "ipython3",
      "version": "3.7.10"
    },
    "papermill": {
      "default_parameters": {},
      "duration": 7303.699924,
      "end_time": "2021-08-10T05:42:51.493533",
      "environment_variables": {},
      "exception": null,
      "input_path": "__notebook__.ipynb",
      "output_path": "__notebook__.ipynb",
      "parameters": {},
      "start_time": "2021-08-10T03:41:07.793609",
      "version": "2.3.3"
    },
    "colab": {
      "provenance": [],
      "include_colab_link": true
    }
  },
  "nbformat": 4,
  "nbformat_minor": 5
}